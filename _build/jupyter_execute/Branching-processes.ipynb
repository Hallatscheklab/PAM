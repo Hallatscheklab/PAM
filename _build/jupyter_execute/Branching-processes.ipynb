{
 "cells": [
  {
   "cell_type": "markdown",
   "id": "6a61b3e2",
   "metadata": {},
   "source": [
    "# Branching Processes \n",
    "\n",
    "What are general patterns we might expect when a population grows out of a single cell?\n",
    "\n",
    "One of the most basic question is to characterize how a population grows over time. Deterministically, we expect exponential growth if prolifertion at rate $a$ exceeds the rate $b$ of death. In many cases, both quantities are similar, for example in an epidemic situation where $R_0$ is about 1, or for a slightly beneficial mutaiton in a population going through generations. In these near critical cases, it is not obvious whether a population survives rather than goes extinct by chance and, if it survives, what population size distribution on might expect. \n",
    "\n",
    "To answer this question, let's first focus on the probability $u$ that the population survives in the long run.\n",
    "\n",
    "$$ \n",
    "u(t+\\epsilon)=\\left[1-\\epsilon (a+b)\\right] u(t)+\\epsilon a \\left[1-(1-u(t))\\right]^2 \n",
    "$$  (br-process-1)\n",
    "\n",
    "Here, the first term on the right hand side simply says that, conditional on no death or birth event occurs within the time span $\\epsilon$, the probability of survival remains unchanged.\n",
    "\n",
    "$$ \n",
    "\\partial_t u = (a-b) u - (a+b) u^2. \n",
    "$$\n",
    "\n",
    "Let's assume $s=a-b\\ll1$ and measure time in generation, then this equation reads \n",
    "    \n",
    "$$ \n",
    "\\partial_t u = s u - 2 u^2. \n",
    "$$\n",
    "\n",
    "This is an example of a\n",
    "math directive with a\n",
    "label\n",
    "```{math}\n",
    ":label: eq-label\n",
    "\n",
    "z=\\sqrt{x^2+y^2}\n",
    "```\n",
    "\n",
    "This is an example of a\n",
    "math block with a label\n",
    "\n",
    "$$\n",
    "z=\\sqrt{x^2+y^2}\n",
    "$$  (mylabel)"
   ]
  },
  {
   "cell_type": "code",
   "execution_count": 1,
   "id": "b6f2c69a",
   "metadata": {},
   "outputs": [
    {
     "name": "stdout",
     "output_type": "stream",
     "text": [
      "4\n"
     ]
    }
   ],
   "source": [
    "print(2 + 2)"
   ]
  },
  {
   "cell_type": "markdown",
   "id": "98747f6b",
   "metadata": {},
   "source": [
    "```{note}\n",
    "Here is a note\n",
    "```\n",
    "\n",
    "It will be rendered in a special box when you build your book.\n",
    "\n",
    "Here is an inline directive to refer to a document: {doc}`markdown-notebooks`.\n",
    "\n",
    "\n",
    "## Citations\n",
    "\n",
    "You can also cite references that are stored in a `bibtex` file. For example,\n",
    "the following syntax: `` {cite}`holdgraf_evidence_2014` `` will render like\n",
    "this: {cite}`holdgraf_evidence_2014`.\n",
    "\n",
    "Moreover, you can insert a bibliography into your page with this syntax:\n",
    "The `{bibliography}` directive must be used for all the `{cite}` roles to\n",
    "render properly.\n",
    "For example, if the references for your book are stored in `references.bib`,\n",
    "then the bibliography is inserted with:\n",
    "\n",
    "```{bibliography}\n",
    "```\n",
    "\n",
    "## Learn more\n",
    "\n",
    "This is just a simple starter to get you started.\n",
    "You can learn a lot more at [jupyterbook.org](https://jupyterbook.org)."
   ]
  }
 ],
 "metadata": {
  "jupytext": {
   "formats": "md:myst",
   "text_representation": {
    "extension": ".md",
    "format_name": "myst",
    "format_version": 0.13,
    "jupytext_version": "1.11.5"
   }
  },
  "kernelspec": {
   "display_name": "Python 3",
   "language": "python",
   "name": "python3"
  },
  "language_info": {
   "codemirror_mode": {
    "name": "ipython",
    "version": 3
   },
   "file_extension": ".py",
   "mimetype": "text/x-python",
   "name": "python",
   "nbconvert_exporter": "python",
   "pygments_lexer": "ipython3",
   "version": "3.9.16"
  },
  "source_map": [
   13,
   57,
   59
  ]
 },
 "nbformat": 4,
 "nbformat_minor": 5
}